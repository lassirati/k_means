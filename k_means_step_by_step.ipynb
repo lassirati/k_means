{
 "cells": [
  {
   "cell_type": "code",
   "execution_count": 1,
   "metadata": {},
   "outputs": [],
   "source": [
    "#importanto as bibliotecas\n",
    "import pandas as pd\n",
    "import matplotlib.pyplot as plt"
   ]
  },
  {
   "cell_type": "code",
   "execution_count": 2,
   "metadata": {},
   "outputs": [
    {
     "data": {
      "text/html": [
       "<div>\n",
       "<style scoped>\n",
       "    .dataframe tbody tr th:only-of-type {\n",
       "        vertical-align: middle;\n",
       "    }\n",
       "\n",
       "    .dataframe tbody tr th {\n",
       "        vertical-align: top;\n",
       "    }\n",
       "\n",
       "    .dataframe thead th {\n",
       "        text-align: right;\n",
       "    }\n",
       "</style>\n",
       "<table border=\"1\" class=\"dataframe\">\n",
       "  <thead>\n",
       "    <tr style=\"text-align: right;\">\n",
       "      <th></th>\n",
       "      <th>x</th>\n",
       "      <th>y</th>\n",
       "    </tr>\n",
       "  </thead>\n",
       "  <tbody>\n",
       "    <tr>\n",
       "      <th>0</th>\n",
       "      <td>1.0</td>\n",
       "      <td>3.0</td>\n",
       "    </tr>\n",
       "    <tr>\n",
       "      <th>1</th>\n",
       "      <td>1.5</td>\n",
       "      <td>3.2</td>\n",
       "    </tr>\n",
       "    <tr>\n",
       "      <th>2</th>\n",
       "      <td>1.3</td>\n",
       "      <td>2.8</td>\n",
       "    </tr>\n",
       "    <tr>\n",
       "      <th>3</th>\n",
       "      <td>3.0</td>\n",
       "      <td>1.0</td>\n",
       "    </tr>\n",
       "  </tbody>\n",
       "</table>\n",
       "</div>"
      ],
      "text/plain": [
       "     x    y\n",
       "0  1.0  3.0\n",
       "1  1.5  3.2\n",
       "2  1.3  2.8\n",
       "3  3.0  1.0"
      ]
     },
     "execution_count": 2,
     "metadata": {},
     "output_type": "execute_result"
    }
   ],
   "source": [
    "# conjunto de dados\n",
    "data = {'x': [1, 1.5, 1.3, 3], 'y': [3, 3.2, 2.8, 1]}\n",
    "data = pd.DataFrame.from_dict(data)\n",
    "data"
   ]
  },
  {
   "cell_type": "code",
   "execution_count": 3,
   "metadata": {},
   "outputs": [
    {
     "data": {
      "image/png": "[encoded data removed]",
      "text/plain": [
       "<Figure size 432x288 with 1 Axes>"
      ]
     },
     "metadata": {
      "needs_background": "light"
     },
     "output_type": "display_data"
    }
   ],
   "source": [
    "# visualizando\n",
    "for i in range(0,len(data)):\n",
    "    plt.plot(data['x'][i], data['y'][i], 'o', color='black', markersize=10)"
   ]
  },
  {
   "cell_type": "code",
   "execution_count": 4,
   "metadata": {},
   "outputs": [],
   "source": [
    "# semente\n",
    "\n",
    "# deve-se ter o numero de sementes igual quantos grupos vc imagina que havera\n",
    "semente1 = [1.75, 2.00]\n",
    "semente2 = [2.50, 1.60]"
   ]
  },
  {
   "cell_type": "code",
   "execution_count": 5,
   "metadata": {},
   "outputs": [
    {
     "data": {
      "text/plain": [
       "[<matplotlib.lines.Line2D at 0x11f51ded0>]"
      ]
     },
     "execution_count": 5,
     "metadata": {},
     "output_type": "execute_result"
    },
    {
     "data": {
      "image/png": "[encoded data removed]",
      "text/plain": [
       "<Figure size 432x288 with 1 Axes>"
      ]
     },
     "metadata": {
      "needs_background": "light"
     },
     "output_type": "display_data"
    }
   ],
   "source": [
    "# visualizando\n",
    "for i in range(0,len(data)):\n",
    "    plt.plot(data['x'][i], data['y'][i], 'o', color='black', markersize=10)\n",
    "    \n",
    "plt.plot(semente1[0], semente1[1], 'x', color='blue', markersize=22)\n",
    "plt.plot(semente2[0], semente2[1], 'x', color='red', markersize=22)"
   ]
  },
  {
   "cell_type": "code",
   "execution_count": 6,
   "metadata": {},
   "outputs": [
    {
     "data": {
      "text/plain": [
       "(1.6007810593582121, 0.7810249675906655)"
      ]
     },
     "execution_count": 6,
     "metadata": {},
     "output_type": "execute_result"
    }
   ],
   "source": [
    "# analisando as distâncias do ponto (3,1) <- quina inferior direita\n",
    "\n",
    "dist_semente1 = ((data['x'][3] - semente1[0])**2 + (data['y'][3] - semente1[1])**2)**0.5\n",
    "dist_semente2 = ((data['x'][3] - semente2[0])**2 + (data['y'][3] - semente2[1])**2)**0.5\n",
    "\n",
    "dist_semente1, dist_semente2"
   ]
  },
  {
   "cell_type": "code",
   "execution_count": 7,
   "metadata": {},
   "outputs": [
    {
     "data": {
      "text/plain": [
       "[<matplotlib.lines.Line2D at 0x11f5fded0>]"
      ]
     },
     "execution_count": 7,
     "metadata": {},
     "output_type": "execute_result"
    },
    {
     "data": {
      "image/png": "[encoded data removed]",
      "text/plain": [
       "<Figure size 432x288 with 1 Axes>"
      ]
     },
     "metadata": {
      "needs_background": "light"
     },
     "output_type": "display_data"
    }
   ],
   "source": [
    "# visualizando\n",
    "for i in range(0,len(data)):\n",
    "\n",
    "    dist_semente1 = ((data['x'][i] - semente1[0])**2 + (data['y'][i] - semente1[1])**2)**0.5\n",
    "    dist_semente2 = ((data['x'][i] - semente2[0])**2 + (data['y'][i] - semente2[1])**2)**0.5\n",
    "    \n",
    "    if dist_semente1 < dist_semente2:\n",
    "        plt.plot(data['x'][i], data['y'][i], 'o', color='blue', markersize=10)\n",
    "    else:\n",
    "        plt.plot(data['x'][i], data['y'][i], 'o', color='red', markersize=10)\n",
    "    \n",
    "plt.plot(semente1[0], semente1[1], 'x', color='blue', markersize=22)\n",
    "plt.plot(semente2[0], semente2[1], 'x', color='red', markersize=22)"
   ]
  },
  {
   "cell_type": "code",
   "execution_count": 8,
   "metadata": {},
   "outputs": [
    {
     "data": {
      "text/plain": [
       "[<matplotlib.lines.Line2D at 0x11f6fb590>]"
      ]
     },
     "execution_count": 8,
     "metadata": {},
     "output_type": "execute_result"
    },
    {
     "data": {
      "image/png": "[encoded data removed]",
      "text/plain": [
       "<Figure size 432x288 with 1 Axes>"
      ]
     },
     "metadata": {
      "needs_background": "light"
     },
     "output_type": "display_data"
    }
   ],
   "source": [
    "# calculando o centroide dos pontos e da semente antiga para determinar as sementes novas:\n",
    "\n",
    "novo_x_semente_1 = (data['x'][0] + data['x'][1] + data['x'][2] + semente1[0])/4\n",
    "novo_y_semente_1 = (data['y'][0] + data['y'][1] + data['y'][2] + semente1[1])/4\n",
    "\n",
    "\n",
    "novo_x_semente_2 = (data['x'][3] +  semente2[0])/2\n",
    "novo_y_semente_2 = (data['y'][3] +  semente2[1])/2\n",
    "\n",
    "\n",
    "# guardei as sementes da rodada anterior\n",
    "semente_velha_1 = semente1\n",
    "semente_velha_2 = semente2\n",
    "\n",
    "# criei as sementes novas\n",
    "semente1 = [novo_x_semente_1, novo_y_semente_1]\n",
    "semente2 = [novo_x_semente_2, novo_y_semente_2]\n",
    "\n",
    "# visualizando\n",
    "for i in range(0,len(data)):\n",
    "    plt.plot(data['x'][i], data['y'][i], 'o', color='black', markersize=10)\n",
    "    \n",
    "plt.plot(semente1[0], semente1[1], 'x', color='blue', markersize=22)\n",
    "plt.plot(semente2[0], semente2[1], 'x', color='red', markersize=22)\n",
    "plt.plot(semente_velha_1[0], semente_velha_1[1], 'x', color='green', markersize=12)\n",
    "plt.plot(semente_velha_2[0], semente_velha_2[1], 'x', color='green', markersize=12)"
   ]
  },
  {
   "cell_type": "code",
   "execution_count": 9,
   "metadata": {},
   "outputs": [
    {
     "data": {
      "text/plain": [
       "[<matplotlib.lines.Line2D at 0x11f7c0e50>]"
      ]
     },
     "execution_count": 9,
     "metadata": {},
     "output_type": "execute_result"
    },
    {
     "data": {
      "image/png": "[encoded data removed]",
      "text/plain": [
       "<Figure size 432x288 with 1 Axes>"
      ]
     },
     "metadata": {
      "needs_background": "light"
     },
     "output_type": "display_data"
    }
   ],
   "source": [
    "# visualizando\n",
    "for i in range(0,len(data)):\n",
    "\n",
    "    dist_semente1 = ((data['x'][i] - semente1[0])**2 + (data['y'][i] - semente1[1])**2)**0.5\n",
    "    dist_semente2 = ((data['x'][i] - semente2[0])**2 + (data['y'][i] - semente2[1])**2)**0.5\n",
    "    \n",
    "    if dist_semente1 < dist_semente2:\n",
    "        plt.plot(data['x'][i], data['y'][i], 'o', color='blue', markersize=10)\n",
    "    else:\n",
    "        plt.plot(data['x'][i], data['y'][i], 'o', color='red', markersize=10)\n",
    "    \n",
    "plt.plot(semente1[0], semente1[1], 'x', color='blue', markersize=22)\n",
    "plt.plot(semente2[0], semente2[1], 'x', color='red', markersize=22)"
   ]
  },
  {
   "cell_type": "code",
   "execution_count": 10,
   "metadata": {},
   "outputs": [
    {
     "data": {
      "text/plain": [
       "[<matplotlib.lines.Line2D at 0x11f38a750>]"
      ]
     },
     "execution_count": 10,
     "metadata": {},
     "output_type": "execute_result"
    },
    {
     "data": {
      "image/png": "[encoded data removed]",
      "text/plain": [
       "<Figure size 432x288 with 1 Axes>"
      ]
     },
     "metadata": {
      "needs_background": "light"
     },
     "output_type": "display_data"
    }
   ],
   "source": [
    "# calculando o centroide dos pontos e da semente antiga para determinar as sementes novas:\n",
    "\n",
    "novo_x_semente_1 = (data['x'][0] + data['x'][1] + data['x'][2] + semente1[0])/4\n",
    "novo_y_semente_1 = (data['y'][0] + data['y'][1] + data['y'][2] + semente1[1])/4\n",
    "\n",
    "\n",
    "novo_x_semente_2 = (data['x'][3] +  semente2[0])/2\n",
    "novo_y_semente_2 = (data['y'][3] +  semente2[1])/2\n",
    "\n",
    "\n",
    "# guardei as sementes da rodada anterior\n",
    "semente_velha_1 = semente1\n",
    "semente_velha_2 = semente2\n",
    "\n",
    "# criei as sementes novas\n",
    "semente1 = [novo_x_semente_1, novo_y_semente_1]\n",
    "semente2 = [novo_x_semente_2, novo_y_semente_2]\n",
    "\n",
    "# visualizando\n",
    "for i in range(0,len(data)):\n",
    "    plt.plot(data['x'][i], data['y'][i], 'o', color='black', markersize=10)\n",
    "    \n",
    "plt.plot(semente1[0], semente1[1], 'x', color='blue', markersize=22)\n",
    "plt.plot(semente2[0], semente2[1], 'x', color='red', markersize=22)\n",
    "plt.plot(semente_velha_1[0], semente_velha_1[1], 'x', color='green', markersize=12)\n",
    "plt.plot(semente_velha_2[0], semente_velha_2[1], 'x', color='green', markersize=12)"
   ]
  },
  {
   "cell_type": "code",
   "execution_count": 11,
   "metadata": {},
   "outputs": [
    {
     "data": {
      "text/plain": [
       "[<matplotlib.lines.Line2D at 0x11f8a7c90>]"
      ]
     },
     "execution_count": 11,
     "metadata": {},
     "output_type": "execute_result"
    },
    {
     "data": {
      "image/png": "[encoded data removed]",
      "text/plain": [
       "<Figure size 432x288 with 1 Axes>"
      ]
     },
     "metadata": {
      "needs_background": "light"
     },
     "output_type": "display_data"
    }
   ],
   "source": [
    "# visualizando\n",
    "for i in range(0,len(data)):\n",
    "\n",
    "    dist_semente1 = ((data['x'][i] - semente1[0])**2 + (data['y'][i] - semente1[1])**2)**0.5\n",
    "    dist_semente2 = ((data['x'][i] - semente2[0])**2 + (data['y'][i] - semente2[1])**2)**0.5\n",
    "    \n",
    "    if dist_semente1 < dist_semente2:\n",
    "        plt.plot(data['x'][i], data['y'][i], 'o', color='blue', markersize=10)\n",
    "    else:\n",
    "        plt.plot(data['x'][i], data['y'][i], 'o', color='red', markersize=10)\n",
    "    \n",
    "plt.plot(semente1[0], semente1[1], 'x', color='blue', markersize=22)\n",
    "plt.plot(semente2[0], semente2[1], 'x', color='red', markersize=22)"
   ]
  },
  {
   "cell_type": "code",
   "execution_count": 12,
   "metadata": {},
   "outputs": [
    {
     "data": {
      "text/plain": [
       "[<matplotlib.lines.Line2D at 0x11f996b50>]"
      ]
     },
     "execution_count": 12,
     "metadata": {},
     "output_type": "execute_result"
    },
    {
     "data": {
      "image/png": "[encoded data removed]",
      "text/plain": [
       "<Figure size 432x288 with 1 Axes>"
      ]
     },
     "metadata": {
      "needs_background": "light"
     },
     "output_type": "display_data"
    }
   ],
   "source": [
    "# calculando o centroide dos pontos e da semente antiga para determinar as sementes novas:\n",
    "\n",
    "novo_x_semente_1 = (data['x'][0] + data['x'][1] + data['x'][2] + semente1[0])/4\n",
    "novo_y_semente_1 = (data['y'][0] + data['y'][1] + data['y'][2] + semente1[1])/4\n",
    "\n",
    "\n",
    "novo_x_semente_2 = (data['x'][3] +  semente2[0])/2\n",
    "novo_y_semente_2 = (data['y'][3] +  semente2[1])/2\n",
    "\n",
    "\n",
    "# guardei as sementes da rodada anterior\n",
    "semente_velha_1 = semente1\n",
    "semente_velha_2 = semente2\n",
    "\n",
    "# criei as sementes novas\n",
    "semente1 = [novo_x_semente_1, novo_y_semente_1]\n",
    "semente2 = [novo_x_semente_2, novo_y_semente_2]\n",
    "\n",
    "# visualizando\n",
    "for i in range(0,len(data)):\n",
    "    plt.plot(data['x'][i], data['y'][i], 'o', color='black', markersize=10)\n",
    "    \n",
    "plt.plot(semente1[0], semente1[1], 'x', color='blue', markersize=22)\n",
    "plt.plot(semente2[0], semente2[1], 'x', color='red', markersize=22)\n",
    "plt.plot(semente_velha_1[0], semente_velha_1[1], 'x', color='green', markersize=12)\n",
    "plt.plot(semente_velha_2[0], semente_velha_2[1], 'x', color='green', markersize=12)"
   ]
  },
  {
   "cell_type": "code",
   "execution_count": 13,
   "metadata": {},
   "outputs": [
    {
     "data": {
      "text/plain": [
       "[<matplotlib.lines.Line2D at 0x11fa63c10>]"
      ]
     },
     "execution_count": 13,
     "metadata": {},
     "output_type": "execute_result"
    },
    {
     "data": {
      "image/png": "[encoded data removed]",
      "text/plain": [
       "<Figure size 432x288 with 1 Axes>"
      ]
     },
     "metadata": {
      "needs_background": "light"
     },
     "output_type": "display_data"
    }
   ],
   "source": [
    "# visualizando\n",
    "for i in range(0,len(data)):\n",
    "\n",
    "    dist_semente1 = ((data['x'][i] - semente1[0])**2 + (data['y'][i] - semente1[1])**2)**0.5\n",
    "    dist_semente2 = ((data['x'][i] - semente2[0])**2 + (data['y'][i] - semente2[1])**2)**0.5\n",
    "    \n",
    "    if dist_semente1 < dist_semente2:\n",
    "        plt.plot(data['x'][i], data['y'][i], 'o', color='blue', markersize=10)\n",
    "    else:\n",
    "        plt.plot(data['x'][i], data['y'][i], 'o', color='red', markersize=10)\n",
    "    \n",
    "plt.plot(semente1[0], semente1[1], 'x', color='blue', markersize=22)\n",
    "plt.plot(semente2[0], semente2[1], 'x', color='red', markersize=22)"
   ]
  },
  {
   "cell_type": "code",
   "execution_count": 14,
   "metadata": {},
   "outputs": [
    {
     "data": {
      "text/plain": [
       "[<matplotlib.lines.Line2D at 0x11fb54a90>]"
      ]
     },
     "execution_count": 14,
     "metadata": {},
     "output_type": "execute_result"
    },
    {
     "data": {
      "image/png": "[encoded data removed]",
      "text/plain": [
       "<Figure size 432x288 with 1 Axes>"
      ]
     },
     "metadata": {
      "needs_background": "light"
     },
     "output_type": "display_data"
    }
   ],
   "source": [
    "# calculando o centroide dos pontos e da semente antiga para determinar as sementes novas:\n",
    "\n",
    "novo_x_semente_1 = (data['x'][0] + data['x'][1] + data['x'][2] + semente1[0])/4\n",
    "novo_y_semente_1 = (data['y'][0] + data['y'][1] + data['y'][2] + semente1[1])/4\n",
    "\n",
    "\n",
    "novo_x_semente_2 = (data['x'][3] +  semente2[0])/2\n",
    "novo_y_semente_2 = (data['y'][3] +  semente2[1])/2\n",
    "\n",
    "\n",
    "# guardei as sementes da rodada anterior\n",
    "semente_velha_1 = semente1\n",
    "semente_velha_2 = semente2\n",
    "\n",
    "# criei as sementes novas\n",
    "semente1 = [novo_x_semente_1, novo_y_semente_1]\n",
    "semente2 = [novo_x_semente_2, novo_y_semente_2]\n",
    "\n",
    "# visualizando\n",
    "for i in range(0,len(data)):\n",
    "    plt.plot(data['x'][i], data['y'][i], 'o', color='black', markersize=10)\n",
    "    \n",
    "plt.plot(semente1[0], semente1[1], 'x', color='blue', markersize=22)\n",
    "plt.plot(semente2[0], semente2[1], 'x', color='red', markersize=22)\n",
    "plt.plot(semente_velha_1[0], semente_velha_1[1], 'x', color='green', markersize=12)\n",
    "plt.plot(semente_velha_2[0], semente_velha_2[1], 'x', color='green', markersize=12)"
   ]
  },
  {
   "cell_type": "code",
   "execution_count": 15,
   "metadata": {},
   "outputs": [
    {
     "data": {
      "text/plain": [
       "[<matplotlib.lines.Line2D at 0x11fbc7b50>]"
      ]
     },
     "execution_count": 15,
     "metadata": {},
     "output_type": "execute_result"
    },
    {
     "data": {
      "image/png": "[encoded data removed]",
      "text/plain": [
       "<Figure size 432x288 with 1 Axes>"
      ]
     },
     "metadata": {
      "needs_background": "light"
     },
     "output_type": "display_data"
    }
   ],
   "source": [
    "# visualizando\n",
    "for i in range(0,len(data)):\n",
    "\n",
    "    dist_semente1 = ((data['x'][i] - semente1[0])**2 + (data['y'][i] - semente1[1])**2)**0.5\n",
    "    dist_semente2 = ((data['x'][i] - semente2[0])**2 + (data['y'][i] - semente2[1])**2)**0.5\n",
    "    \n",
    "    if dist_semente1 < dist_semente2:\n",
    "        plt.plot(data['x'][i], data['y'][i], 'o', color='blue', markersize=10)\n",
    "    else:\n",
    "        plt.plot(data['x'][i], data['y'][i], 'o', color='red', markersize=10)\n",
    "    \n",
    "plt.plot(semente1[0], semente1[1], 'x', color='blue', markersize=22)\n",
    "plt.plot(semente2[0], semente2[1], 'x', color='red', markersize=22)"
   ]
  },
  {
   "cell_type": "code",
   "execution_count": 16,
   "metadata": {},
   "outputs": [
    {
     "data": {
      "text/plain": [
       "[<matplotlib.lines.Line2D at 0x11fd159d0>]"
      ]
     },
     "execution_count": 16,
     "metadata": {},
     "output_type": "execute_result"
    },
    {
     "data": {
      "image/png": "[encoded data removed]",
      "text/plain": [
       "<Figure size 432x288 with 1 Axes>"
      ]
     },
     "metadata": {
      "needs_background": "light"
     },
     "output_type": "display_data"
    }
   ],
   "source": [
    "# calculando o centroide dos pontos e da semente antiga para determinar as sementes novas:\n",
    "\n",
    "novo_x_semente_1 = (data['x'][0] + data['x'][1] + data['x'][2] + semente1[0])/4\n",
    "novo_y_semente_1 = (data['y'][0] + data['y'][1] + data['y'][2] + semente1[1])/4\n",
    "\n",
    "\n",
    "novo_x_semente_2 = (data['x'][3] +  semente2[0])/2\n",
    "novo_y_semente_2 = (data['y'][3] +  semente2[1])/2\n",
    "\n",
    "\n",
    "# guardei as sementes da rodada anterior\n",
    "semente_velha_1 = semente1\n",
    "semente_velha_2 = semente2\n",
    "\n",
    "# criei as sementes novas\n",
    "semente1 = [novo_x_semente_1, novo_y_semente_1]\n",
    "semente2 = [novo_x_semente_2, novo_y_semente_2]\n",
    "\n",
    "# visualizando\n",
    "for i in range(0,len(data)):\n",
    "    plt.plot(data['x'][i], data['y'][i], 'o', color='black', markersize=10)\n",
    "    \n",
    "plt.plot(semente1[0], semente1[1], 'x', color='blue', markersize=22)\n",
    "plt.plot(semente2[0], semente2[1], 'x', color='red', markersize=22)\n",
    "plt.plot(semente_velha_1[0], semente_velha_1[1], 'x', color='green', markersize=12)\n",
    "plt.plot(semente_velha_2[0], semente_velha_2[1], 'x', color='green', markersize=12)"
   ]
  },
  {
   "cell_type": "code",
   "execution_count": 17,
   "metadata": {},
   "outputs": [
    {
     "data": {
      "text/plain": [
       "[<matplotlib.lines.Line2D at 0x11fd8ef50>]"
      ]
     },
     "execution_count": 17,
     "metadata": {},
     "output_type": "execute_result"
    },
    {
     "data": {
      "image/png": "[encoded data removed]",
      "text/plain": [
       "<Figure size 432x288 with 1 Axes>"
      ]
     },
     "metadata": {
      "needs_background": "light"
     },
     "output_type": "display_data"
    }
   ],
   "source": [
    "# visualizando\n",
    "for i in range(0,len(data)):\n",
    "\n",
    "    dist_semente1 = ((data['x'][i] - semente1[0])**2 + (data['y'][i] - semente1[1])**2)**0.5\n",
    "    dist_semente2 = ((data['x'][i] - semente2[0])**2 + (data['y'][i] - semente2[1])**2)**0.5\n",
    "    \n",
    "    if dist_semente1 < dist_semente2:\n",
    "        plt.plot(data['x'][i], data['y'][i], 'o', color='blue', markersize=10)\n",
    "    else:\n",
    "        plt.plot(data['x'][i], data['y'][i], 'o', color='red', markersize=10)\n",
    "    \n",
    "plt.plot(semente1[0], semente1[1], 'x', color='blue', markersize=22)\n",
    "plt.plot(semente2[0], semente2[1], 'x', color='red', markersize=22)"
   ]
  },
  {
   "cell_type": "code",
   "execution_count": 18,
   "metadata": {},
   "outputs": [
    {
     "data": {
      "text/plain": [
       "[<matplotlib.lines.Line2D at 0x11fed1950>]"
      ]
     },
     "execution_count": 18,
     "metadata": {},
     "output_type": "execute_result"
    },
    {
     "data": {
      "image/png": "[encoded data removed]",
      "text/plain": [
       "<Figure size 432x288 with 1 Axes>"
      ]
     },
     "metadata": {
      "needs_background": "light"
     },
     "output_type": "display_data"
    }
   ],
   "source": [
    "# calculando o centroide dos pontos e da semente antiga para determinar as sementes novas:\n",
    "\n",
    "novo_x_semente_1 = (data['x'][0] + data['x'][1] + data['x'][2] + semente1[0])/4\n",
    "novo_y_semente_1 = (data['y'][0] + data['y'][1] + data['y'][2] + semente1[1])/4\n",
    "\n",
    "\n",
    "novo_x_semente_2 = (data['x'][3] +  semente2[0])/2\n",
    "novo_y_semente_2 = (data['y'][3] +  semente2[1])/2\n",
    "\n",
    "\n",
    "# guardei as sementes da rodada anterior\n",
    "semente_velha_1 = semente1\n",
    "semente_velha_2 = semente2\n",
    "\n",
    "# criei as sementes novas\n",
    "semente1 = [novo_x_semente_1, novo_y_semente_1]\n",
    "semente2 = [novo_x_semente_2, novo_y_semente_2]\n",
    "\n",
    "# visualizando\n",
    "for i in range(0,len(data)):\n",
    "    plt.plot(data['x'][i], data['y'][i], 'o', color='black', markersize=10)\n",
    "    \n",
    "plt.plot(semente1[0], semente1[1], 'x', color='blue', markersize=22)\n",
    "plt.plot(semente2[0], semente2[1], 'x', color='red', markersize=22)\n",
    "plt.plot(semente_velha_1[0], semente_velha_1[1], 'x', color='green', markersize=12)\n",
    "plt.plot(semente_velha_2[0], semente_velha_2[1], 'x', color='green', markersize=12)"
   ]
  },
  {
   "cell_type": "code",
   "execution_count": 19,
   "metadata": {},
   "outputs": [
    {
     "data": {
      "text/plain": [
       "[<matplotlib.lines.Line2D at 0x11ffa6ed0>]"
      ]
     },
     "execution_count": 19,
     "metadata": {},
     "output_type": "execute_result"
    },
    {
     "data": {
      "image/png": "[encoded data removed]",
      "text/plain": [
       "<Figure size 432x288 with 1 Axes>"
      ]
     },
     "metadata": {
      "needs_background": "light"
     },
     "output_type": "display_data"
    }
   ],
   "source": [
    "# visualizando\n",
    "for i in range(0,len(data)):\n",
    "\n",
    "    dist_semente1 = ((data['x'][i] - semente1[0])**2 + (data['y'][i] - semente1[1])**2)**0.5\n",
    "    dist_semente2 = ((data['x'][i] - semente2[0])**2 + (data['y'][i] - semente2[1])**2)**0.5\n",
    "    \n",
    "    if dist_semente1 < dist_semente2:\n",
    "        plt.plot(data['x'][i], data['y'][i], 'o', color='blue', markersize=10)\n",
    "    else:\n",
    "        plt.plot(data['x'][i], data['y'][i], 'o', color='red', markersize=10)\n",
    "    \n",
    "plt.plot(semente1[0], semente1[1], 'x', color='blue', markersize=22)\n",
    "plt.plot(semente2[0], semente2[1], 'x', color='red', markersize=22)"
   ]
  },
  {
   "cell_type": "code",
   "execution_count": 20,
   "metadata": {},
   "outputs": [
    {
     "data": {
      "text/plain": [
       "([1.26678466796875, 2.999755859375], [2.9921875, 1.009375])"
      ]
     },
     "execution_count": 20,
     "metadata": {},
     "output_type": "execute_result"
    }
   ],
   "source": [
    "semente1, semente2"
   ]
  },
  {
   "cell_type": "code",
   "execution_count": 21,
   "metadata": {},
   "outputs": [
    {
     "name": "stdout",
     "output_type": "stream",
     "text": [
      "centroides = [3.0,1.0] e [1.2666666666666666,3.0]\n"
     ]
    }
   ],
   "source": [
    "######################################\n",
    "#usando a biblioteca sklearn\n",
    "from sklearn.cluster import KMeans\n",
    "\n",
    "num_clusters = 2\n",
    "\n",
    "kmeans = KMeans(n_clusters=num_clusters)\n",
    "kmeans.fit(data)\n",
    "\n",
    "centroids = kmeans.cluster_centers_\n",
    "\n",
    "print('centroides = [{},{}] e [{},{}]'.format(centroids[0][0],centroids[0][1],centroids[1][0],centroids[1][1]))"
   ]
  },
  {
   "cell_type": "code",
   "execution_count": 22,
   "metadata": {},
   "outputs": [
    {
     "data": {
      "text/html": [
       "<div>\n",
       "<style scoped>\n",
       "    .dataframe tbody tr th:only-of-type {\n",
       "        vertical-align: middle;\n",
       "    }\n",
       "\n",
       "    .dataframe tbody tr th {\n",
       "        vertical-align: top;\n",
       "    }\n",
       "\n",
       "    .dataframe thead th {\n",
       "        text-align: right;\n",
       "    }\n",
       "</style>\n",
       "<table border=\"1\" class=\"dataframe\">\n",
       "  <thead>\n",
       "    <tr style=\"text-align: right;\">\n",
       "      <th></th>\n",
       "      <th>x</th>\n",
       "      <th>y</th>\n",
       "    </tr>\n",
       "  </thead>\n",
       "  <tbody>\n",
       "    <tr>\n",
       "      <th>0</th>\n",
       "      <td>1.0</td>\n",
       "      <td>1</td>\n",
       "    </tr>\n",
       "    <tr>\n",
       "      <th>1</th>\n",
       "      <td>1.2</td>\n",
       "      <td>1</td>\n",
       "    </tr>\n",
       "    <tr>\n",
       "      <th>2</th>\n",
       "      <td>1.0</td>\n",
       "      <td>3</td>\n",
       "    </tr>\n",
       "    <tr>\n",
       "      <th>3</th>\n",
       "      <td>1.2</td>\n",
       "      <td>3</td>\n",
       "    </tr>\n",
       "    <tr>\n",
       "      <th>4</th>\n",
       "      <td>2.8</td>\n",
       "      <td>1</td>\n",
       "    </tr>\n",
       "    <tr>\n",
       "      <th>5</th>\n",
       "      <td>3.0</td>\n",
       "      <td>1</td>\n",
       "    </tr>\n",
       "    <tr>\n",
       "      <th>6</th>\n",
       "      <td>2.8</td>\n",
       "      <td>3</td>\n",
       "    </tr>\n",
       "    <tr>\n",
       "      <th>7</th>\n",
       "      <td>3.0</td>\n",
       "      <td>3</td>\n",
       "    </tr>\n",
       "  </tbody>\n",
       "</table>\n",
       "</div>"
      ],
      "text/plain": [
       "     x  y\n",
       "0  1.0  1\n",
       "1  1.2  1\n",
       "2  1.0  3\n",
       "3  1.2  3\n",
       "4  2.8  1\n",
       "5  3.0  1\n",
       "6  2.8  3\n",
       "7  3.0  3"
      ]
     },
     "execution_count": 22,
     "metadata": {},
     "output_type": "execute_result"
    }
   ],
   "source": [
    "######### cotovelo ######\n",
    "\n",
    "# conjunto de dados\n",
    "data = {'x': [1, 1.2, 1, 1.2, 2.8, 3.0, 2.8, 3.0], 'y': [1, 1, 3, 3, 1, 1, 3, 3]}\n",
    "data = pd.DataFrame.from_dict(data)\n",
    "data"
   ]
  },
  {
   "cell_type": "code",
   "execution_count": 23,
   "metadata": {},
   "outputs": [
    {
     "data": {
      "image/png": "[encoded data removed]",
      "text/plain": [
       "<Figure size 432x288 with 1 Axes>"
      ]
     },
     "metadata": {
      "needs_background": "light"
     },
     "output_type": "display_data"
    }
   ],
   "source": [
    "# visualizando\n",
    "for i in range(0,len(data)):\n",
    "    plt.plot(data['x'][i], data['y'][i], 'o', color='black', markersize=10)"
   ]
  },
  {
   "cell_type": "code",
   "execution_count": 24,
   "metadata": {},
   "outputs": [
    {
     "name": "stdout",
     "output_type": "stream",
     "text": [
      "[[2. 2.]]\n"
     ]
    },
    {
     "data": {
      "text/plain": [
       "[<matplotlib.lines.Line2D at 0x1a23563d10>]"
      ]
     },
     "execution_count": 24,
     "metadata": {},
     "output_type": "execute_result"
    },
    {
     "data": {
      "image/png": "[encoded data removed]",
      "text/plain": [
       "<Figure size 432x288 with 1 Axes>"
      ]
     },
     "metadata": {
      "needs_background": "light"
     },
     "output_type": "display_data"
    }
   ],
   "source": [
    "# 1 cluster\n",
    "\n",
    "num_clusters = 1\n",
    "\n",
    "kmeans = KMeans(n_clusters=num_clusters)\n",
    "kmeans.fit(data)\n",
    "\n",
    "centroids = kmeans.cluster_centers_\n",
    "print(centroids)\n",
    "\n",
    "# visualizando\n",
    "for i in range(0,len(data)):\n",
    "    plt.plot(data['x'][i], data['y'][i], 'o', color='blue', markersize=10)\n",
    "    \n",
    "plt.plot(centroids[0][0], centroids[0][1], 'x', color='blue', markersize=22)    "
   ]
  },
  {
   "cell_type": "code",
   "execution_count": 25,
   "metadata": {},
   "outputs": [],
   "source": [
    "media_das_distancias_aos_centroides = []\n",
    "num_cluster = []"
   ]
  },
  {
   "cell_type": "code",
   "execution_count": 26,
   "metadata": {},
   "outputs": [
    {
     "data": {
      "text/plain": [
       "14.560000000000002"
      ]
     },
     "execution_count": 26,
     "metadata": {},
     "output_type": "execute_result"
    }
   ],
   "source": [
    "dist_semente_1 = 0\n",
    "for i in range(0,len(data)):\n",
    "\n",
    "    dist_semente_1 = dist_semente_1 + (((data['x'][i] - centroids[0][0])**2 + (data['y'][i] - centroids[0][1])**2)**0.5)**2\n",
    "   \n",
    "    \n",
    "\n",
    "dist_semente_1"
   ]
  },
  {
   "cell_type": "code",
   "execution_count": 27,
   "metadata": {},
   "outputs": [],
   "source": [
    "media_das_distancias_aos_centroides.append(dist_semente_1)\n",
    "num_cluster.append(1)"
   ]
  },
  {
   "cell_type": "code",
   "execution_count": 28,
   "metadata": {},
   "outputs": [
    {
     "name": "stdout",
     "output_type": "stream",
     "text": [
      "[[2. 3.]\n",
      " [2. 1.]]\n"
     ]
    },
    {
     "data": {
      "text/plain": [
       "[<matplotlib.lines.Line2D at 0x1a235f2e90>]"
      ]
     },
     "execution_count": 28,
     "metadata": {},
     "output_type": "execute_result"
    },
    {
     "data": {
      "image/png": "[encoded data removed]",
      "text/plain": [
       "<Figure size 432x288 with 1 Axes>"
      ]
     },
     "metadata": {
      "needs_background": "light"
     },
     "output_type": "display_data"
    }
   ],
   "source": [
    "# 2 clusters\n",
    "\n",
    "num_clusters = 2\n",
    "\n",
    "kmeans = KMeans(n_clusters=num_clusters)\n",
    "kmeans.fit(data)\n",
    "\n",
    "centroids = kmeans.cluster_centers_\n",
    "print(centroids)\n",
    "\n",
    "# visualizando\n",
    "for i in range(0,len(data)):\n",
    "    plt.plot(data['x'][i], data['y'][i], 'o', color='black', markersize=10)\n",
    "    \n",
    "plt.plot(centroids[0][0], centroids[0][1], 'x', color='blue', markersize=22)    \n",
    "plt.plot(centroids[1][0], centroids[1][1], 'x', color='red', markersize=22)    "
   ]
  },
  {
   "cell_type": "code",
   "execution_count": 29,
   "metadata": {},
   "outputs": [
    {
     "data": {
      "text/plain": [
       "[<matplotlib.lines.Line2D at 0x1a2374fd50>]"
      ]
     },
     "execution_count": 29,
     "metadata": {},
     "output_type": "execute_result"
    },
    {
     "data": {
      "image/png": "[encoded data removed]",
      "text/plain": [
       "<Figure size 432x288 with 1 Axes>"
      ]
     },
     "metadata": {
      "needs_background": "light"
     },
     "output_type": "display_data"
    }
   ],
   "source": [
    "for i in range(0,len(data)):\n",
    "\n",
    "    dist_semente_1 = (((data['x'][i] - centroids[0][0])**2 + (data['y'][i] - centroids[0][1])**2)**0.5)\n",
    "    dist_semente_2 = (((data['x'][i] - centroids[1][0])**2 + (data['y'][i] - centroids[1][1])**2)**0.5)    \n",
    "    \n",
    "    \n",
    "    if dist_semente_1 < dist_semente_2:\n",
    "        plt.plot(data['x'][i], data['y'][i], 'o', color='blue', markersize=10)\n",
    "    else:\n",
    "        plt.plot(data['x'][i], data['y'][i], 'o', color='red', markersize=10)    \n",
    "    \n",
    "plt.plot(centroids[0][0], centroids[0][1], 'x', color='blue', markersize=22)    \n",
    "plt.plot(centroids[1][0], centroids[1][1], 'x', color='red', markersize=22) "
   ]
  },
  {
   "cell_type": "code",
   "execution_count": 30,
   "metadata": {},
   "outputs": [
    {
     "data": {
      "text/plain": [
       "6.56"
      ]
     },
     "execution_count": 30,
     "metadata": {},
     "output_type": "execute_result"
    }
   ],
   "source": [
    "acc_1 = 0\n",
    "acc_2 = 0\n",
    "\n",
    "for i in range(0,len(data)):\n",
    "\n",
    "    dist_semente_1 = (((data['x'][i] - centroids[0][0])**2 + (data['y'][i] - centroids[0][1])**2)**0.5)\n",
    "    dist_semente_2 = (((data['x'][i] - centroids[1][0])**2 + (data['y'][i] - centroids[1][1])**2)**0.5)    \n",
    "    \n",
    "    \n",
    "    if dist_semente_1 < dist_semente_2:\n",
    "        acc_1 = acc_1 + dist_semente_1**2\n",
    "    else:\n",
    "        acc_2 = acc_2 + dist_semente_2**2 \n",
    "    \n",
    "\n",
    "\n",
    "soma_dists = (acc_1+acc_2)\n",
    "soma_dists"
   ]
  },
  {
   "cell_type": "code",
   "execution_count": 31,
   "metadata": {},
   "outputs": [],
   "source": [
    "media_das_distancias_aos_centroides.append(soma_dists)\n",
    "num_cluster.append(2)"
   ]
  },
  {
   "cell_type": "code",
   "execution_count": 32,
   "metadata": {},
   "outputs": [
    {
     "name": "stdout",
     "output_type": "stream",
     "text": [
      "[[2.  3. ]\n",
      " [2.9 1. ]\n",
      " [1.1 1. ]]\n"
     ]
    },
    {
     "data": {
      "text/plain": [
       "[<matplotlib.lines.Line2D at 0x1a22b01790>]"
      ]
     },
     "execution_count": 32,
     "metadata": {},
     "output_type": "execute_result"
    },
    {
     "data": {
      "image/png": "[encoded data removed]",
      "text/plain": [
       "<Figure size 432x288 with 1 Axes>"
      ]
     },
     "metadata": {
      "needs_background": "light"
     },
     "output_type": "display_data"
    }
   ],
   "source": [
    "# 3 clusters\n",
    "\n",
    "num_clusters = 3\n",
    "\n",
    "kmeans = KMeans(n_clusters=num_clusters)\n",
    "kmeans.fit(data)\n",
    "\n",
    "centroids = kmeans.cluster_centers_\n",
    "print(centroids)\n",
    "\n",
    "# visualizando\n",
    "for i in range(0,len(data)):\n",
    "    plt.plot(data['x'][i], data['y'][i], 'o', color='black', markersize=10)\n",
    "    \n",
    "plt.plot(centroids[0][0], centroids[0][1], 'x', color='blue', markersize=22)    \n",
    "plt.plot(centroids[1][0], centroids[1][1], 'x', color='red', markersize=22) \n",
    "plt.plot(centroids[2][0], centroids[2][1], 'x', color='green', markersize=22) "
   ]
  },
  {
   "cell_type": "code",
   "execution_count": 33,
   "metadata": {},
   "outputs": [
    {
     "data": {
      "text/plain": [
       "[<matplotlib.lines.Line2D at 0x1a2385cd10>]"
      ]
     },
     "execution_count": 33,
     "metadata": {},
     "output_type": "execute_result"
    },
    {
     "data": {
      "image/png": "[encoded data removed]",
      "text/plain": [
       "<Figure size 432x288 with 1 Axes>"
      ]
     },
     "metadata": {
      "needs_background": "light"
     },
     "output_type": "display_data"
    }
   ],
   "source": [
    "for i in range(0,len(data)):\n",
    "\n",
    "    dist_semente_1 = (((data['x'][i] - centroids[0][0])**2 + (data['y'][i] - centroids[0][1])**2)**0.5)\n",
    "    dist_semente_2 = (((data['x'][i] - centroids[1][0])**2 + (data['y'][i] - centroids[1][1])**2)**0.5)    \n",
    "    dist_semente_3 = (((data['x'][i] - centroids[2][0])**2 + (data['y'][i] - centroids[2][1])**2)**0.5)        \n",
    "    \n",
    "    distancias = [dist_semente_1,dist_semente_2,dist_semente_3]\n",
    "    \n",
    "    indice = distancias.index(min(distancias))\n",
    "    if indice == 0:\n",
    "        plt.plot(data['x'][i], data['y'][i], 'o', color='blue', markersize=10)\n",
    "    elif indice ==1:\n",
    "        plt.plot(data['x'][i], data['y'][i], 'o', color='red', markersize=10)    \n",
    "    else:\n",
    "        plt.plot(data['x'][i], data['y'][i], 'o', color='green', markersize=10)    \n",
    "    \n",
    "plt.plot(centroids[0][0], centroids[0][1], 'x', color='blue', markersize=22)    \n",
    "plt.plot(centroids[1][0], centroids[1][1], 'x', color='red', markersize=22) \n",
    "plt.plot(centroids[2][0], centroids[2][1], 'x', color='green', markersize=22) "
   ]
  },
  {
   "cell_type": "code",
   "execution_count": 34,
   "metadata": {},
   "outputs": [
    {
     "data": {
      "text/plain": [
       "-7"
      ]
     },
     "execution_count": 34,
     "metadata": {},
     "output_type": "execute_result"
    }
   ],
   "source": [
    "vetor_teste = [1,44,-7]\n",
    "min(vetor_teste)"
   ]
  },
  {
   "cell_type": "code",
   "execution_count": 35,
   "metadata": {},
   "outputs": [
    {
     "data": {
      "text/plain": [
       "2"
      ]
     },
     "execution_count": 35,
     "metadata": {},
     "output_type": "execute_result"
    }
   ],
   "source": [
    "vetor_teste.index(min(vetor_teste))"
   ]
  },
  {
   "cell_type": "code",
   "execution_count": 36,
   "metadata": {},
   "outputs": [
    {
     "data": {
      "text/plain": [
       "3.32"
      ]
     },
     "execution_count": 36,
     "metadata": {},
     "output_type": "execute_result"
    }
   ],
   "source": [
    "acc_1 = 0\n",
    "acc_2 = 0\n",
    "acc_3 = 0\n",
    "\n",
    "for i in range(0,len(data)):\n",
    "\n",
    "    dist_semente_1 = (((data['x'][i] - centroids[0][0])**2 + (data['y'][i] - centroids[0][1])**2)**0.5)\n",
    "    dist_semente_2 = (((data['x'][i] - centroids[1][0])**2 + (data['y'][i] - centroids[1][1])**2)**0.5)    \n",
    "    dist_semente_3 = (((data['x'][i] - centroids[2][0])**2 + (data['y'][i] - centroids[2][1])**2)**0.5)        \n",
    "    \n",
    "    distancias = [dist_semente_1,dist_semente_2,dist_semente_3]\n",
    "    \n",
    "    indice = distancias.index(min(distancias))\n",
    "    if indice == 0:\n",
    "        acc_1 = acc_1+dist_semente_1**2\n",
    "    elif indice ==1:\n",
    "        acc_2 = acc_2+dist_semente_2**2\n",
    "    else:\n",
    "        acc_3 = acc_3+dist_semente_3**2\n",
    "        \n",
    "\n",
    "soma_dists = (acc_1+acc_2+acc_3)\n",
    "soma_dists        "
   ]
  },
  {
   "cell_type": "code",
   "execution_count": 37,
   "metadata": {},
   "outputs": [],
   "source": [
    "media_das_distancias_aos_centroides.append(soma_dists)\n",
    "num_cluster.append(3)"
   ]
  },
  {
   "cell_type": "code",
   "execution_count": 38,
   "metadata": {},
   "outputs": [
    {
     "name": "stdout",
     "output_type": "stream",
     "text": [
      "[[2.9 1. ]\n",
      " [1.1 3. ]\n",
      " [2.9 3. ]\n",
      " [1.1 1. ]]\n"
     ]
    },
    {
     "data": {
      "text/plain": [
       "[<matplotlib.lines.Line2D at 0x1a239537d0>]"
      ]
     },
     "execution_count": 38,
     "metadata": {},
     "output_type": "execute_result"
    },
    {
     "data": {
      "image/png": "[encoded data removed]",
      "text/plain": [
       "<Figure size 432x288 with 1 Axes>"
      ]
     },
     "metadata": {
      "needs_background": "light"
     },
     "output_type": "display_data"
    }
   ],
   "source": [
    "# 4 clusters\n",
    "\n",
    "num_clusters = 4\n",
    "\n",
    "kmeans = KMeans(n_clusters=num_clusters)\n",
    "kmeans.fit(data)\n",
    "\n",
    "centroids = kmeans.cluster_centers_\n",
    "print(centroids)\n",
    "\n",
    "# visualizando\n",
    "for i in range(0,len(data)):\n",
    "    plt.plot(data['x'][i], data['y'][i], 'o', color='black', markersize=10)\n",
    "    \n",
    "plt.plot(centroids[0][0], centroids[0][1], 'x', color='blue', markersize=22)    \n",
    "plt.plot(centroids[1][0], centroids[1][1], 'x', color='red', markersize=22) \n",
    "plt.plot(centroids[2][0], centroids[2][1], 'x', color='green', markersize=22) \n",
    "plt.plot(centroids[3][0], centroids[3][1], 'x', color='orange', markersize=22) "
   ]
  },
  {
   "cell_type": "code",
   "execution_count": 39,
   "metadata": {},
   "outputs": [
    {
     "data": {
      "text/plain": [
       "[<matplotlib.lines.Line2D at 0x1a23a5fe50>]"
      ]
     },
     "execution_count": 39,
     "metadata": {},
     "output_type": "execute_result"
    },
    {
     "data": {
      "image/png": "[encoded data removed]",
      "text/plain": [
       "<Figure size 432x288 with 1 Axes>"
      ]
     },
     "metadata": {
      "needs_background": "light"
     },
     "output_type": "display_data"
    }
   ],
   "source": [
    "for i in range(0,len(data)):\n",
    "\n",
    "    dist_semente_1 = (((data['x'][i] - centroids[0][0])**2 + (data['y'][i] - centroids[0][1])**2)**0.5)\n",
    "    dist_semente_2 = (((data['x'][i] - centroids[1][0])**2 + (data['y'][i] - centroids[1][1])**2)**0.5)    \n",
    "    dist_semente_3 = (((data['x'][i] - centroids[2][0])**2 + (data['y'][i] - centroids[2][1])**2)**0.5)    \n",
    "    dist_semente_4 = (((data['x'][i] - centroids[3][0])**2 + (data['y'][i] - centroids[3][1])**2)**0.5)        \n",
    "    \n",
    "    distancias = [dist_semente_1,dist_semente_2,dist_semente_3,dist_semente_4]\n",
    "    \n",
    "    indice = distancias.index(min(distancias))\n",
    "    if indice == 0:\n",
    "        plt.plot(data['x'][i], data['y'][i], 'o', color='blue', markersize=10)\n",
    "    elif indice ==1:\n",
    "        plt.plot(data['x'][i], data['y'][i], 'o', color='red', markersize=10)    \n",
    "    elif indice ==2:\n",
    "        plt.plot(data['x'][i], data['y'][i], 'o', color='green', markersize=10)    \n",
    "    else:\n",
    "        plt.plot(data['x'][i], data['y'][i], 'o', color='orange', markersize=10)    \n",
    "    \n",
    "plt.plot(centroids[0][0], centroids[0][1], 'x', color='blue', markersize=22)    \n",
    "plt.plot(centroids[1][0], centroids[1][1], 'x', color='red', markersize=22) \n",
    "plt.plot(centroids[2][0], centroids[2][1], 'x', color='green', markersize=22) \n",
    "plt.plot(centroids[3][0], centroids[3][1], 'x', color='orange', markersize=22) "
   ]
  },
  {
   "cell_type": "code",
   "execution_count": 40,
   "metadata": {},
   "outputs": [
    {
     "data": {
      "text/plain": [
       "0.08000000000000004"
      ]
     },
     "execution_count": 40,
     "metadata": {},
     "output_type": "execute_result"
    }
   ],
   "source": [
    "acc_1 = 0\n",
    "acc_2 = 0\n",
    "acc_3 = 0\n",
    "acc_4 = 0\n",
    "\n",
    "for i in range(0,len(data)):\n",
    "\n",
    "    dist_semente_1 = (((data['x'][i] - centroids[0][0])**2 + (data['y'][i] - centroids[0][1])**2)**0.5)\n",
    "    dist_semente_2 = (((data['x'][i] - centroids[1][0])**2 + (data['y'][i] - centroids[1][1])**2)**0.5)    \n",
    "    dist_semente_3 = (((data['x'][i] - centroids[2][0])**2 + (data['y'][i] - centroids[2][1])**2)**0.5)        \n",
    "    dist_semente_4 = (((data['x'][i] - centroids[3][0])**2 + (data['y'][i] - centroids[3][1])**2)**0.5) \n",
    "    \n",
    "    distancias = [dist_semente_1,dist_semente_2,dist_semente_3,dist_semente_4]\n",
    "    \n",
    "    indice = distancias.index(min(distancias))\n",
    "    if indice == 0:\n",
    "        acc_1 = acc_1+dist_semente_1**2\n",
    "    elif indice ==1:\n",
    "        acc_2 = acc_2+dist_semente_2**2\n",
    "    elif indice ==2:\n",
    "        acc_3 = acc_3+dist_semente_3**2\n",
    "    else:\n",
    "        acc_4 = acc_4+dist_semente_4**2\n",
    "        \n",
    "\n",
    "\n",
    "soma_dists = (acc_1+acc_2+acc_3+acc_4)\n",
    "soma_dists "
   ]
  },
  {
   "cell_type": "code",
   "execution_count": 41,
   "metadata": {},
   "outputs": [],
   "source": [
    "media_das_distancias_aos_centroides.append(soma_dists)\n",
    "num_cluster.append(4)"
   ]
  },
  {
   "cell_type": "code",
   "execution_count": 42,
   "metadata": {},
   "outputs": [
    {
     "data": {
      "text/plain": [
       "[<matplotlib.lines.Line2D at 0x1a23b2aa90>]"
      ]
     },
     "execution_count": 42,
     "metadata": {},
     "output_type": "execute_result"
    },
    {
     "data": {
      "image/png": "[encoded data removed]",
      "text/plain": [
       "<Figure size 432x288 with 1 Axes>"
      ]
     },
     "metadata": {
      "needs_background": "light"
     },
     "output_type": "display_data"
    }
   ],
   "source": [
    "plt.plot(num_cluster,media_das_distancias_aos_centroides)"
   ]
  },
  {
   "cell_type": "code",
   "execution_count": 43,
   "metadata": {},
   "outputs": [],
   "source": [
    "media_das_distancias_aos_centroides.append(0)\n",
    "num_cluster.append(8)"
   ]
  },
  {
   "cell_type": "code",
   "execution_count": 44,
   "metadata": {},
   "outputs": [
    {
     "data": {
      "text/plain": [
       "[<matplotlib.lines.Line2D at 0x1a23b997d0>]"
      ]
     },
     "execution_count": 44,
     "metadata": {},
     "output_type": "execute_result"
    },
    {
     "data": {
      "image/png": "[encoded data removed]",
      "text/plain": [
       "<Figure size 432x288 with 1 Axes>"
      ]
     },
     "metadata": {
      "needs_background": "light"
     },
     "output_type": "display_data"
    }
   ],
   "source": [
    "plt.plot(num_cluster,media_das_distancias_aos_centroides, 'b-x')"
   ]
  },
  {
   "cell_type": "code",
   "execution_count": 45,
   "metadata": {},
   "outputs": [],
   "source": [
    "######"
   ]
  },
  {
   "cell_type": "code",
   "execution_count": 46,
   "metadata": {},
   "outputs": [
    {
     "data": {
      "image/png": "[encoded data removed]",
      "text/plain": [
       "<Figure size 432x288 with 1 Axes>"
      ]
     },
     "metadata": {
      "needs_background": "light"
     },
     "output_type": "display_data"
    }
   ],
   "source": [
    "######   teste do cotovelo com grupos de 1 ate 8  ###############\n",
    "\n",
    "distorcao = []\n",
    "for nclusters in range(1,9):\n",
    "\n",
    "    kmeans = KMeans(n_clusters=nclusters)\n",
    "    kmeans.fit(data)\n",
    "    distorcao.append(kmeans.inertia_)\n",
    "\n",
    "\n",
    "\n",
    "#### Plot para analise de sensibilidade e ganho informacional\n",
    "K = range(1,9)\n",
    "plt.plot(K, distorcao, 'bx-')\n",
    "plt.xlabel('k')\n",
    "plt.ylabel('Distorcao')\n",
    "plt.title('Elbow para k otimo')\n",
    "plt.show()"
   ]
  },
  {
   "cell_type": "code",
   "execution_count": 47,
   "metadata": {},
   "outputs": [
    {
     "data": {
      "text/plain": [
       "[14.559999999999999,\n",
       " 6.56,\n",
       " 3.32,\n",
       " 0.08000000000000004,\n",
       " 0.06000000000000001,\n",
       " 0.03999999999999998,\n",
       " 0.01999999999999999,\n",
       " 0.0]"
      ]
     },
     "execution_count": 47,
     "metadata": {},
     "output_type": "execute_result"
    }
   ],
   "source": [
    "distorcao"
   ]
  },
  {
   "cell_type": "code",
   "execution_count": null,
   "metadata": {},
   "outputs": [],
   "source": []
  }
 ],
 "metadata": {
  "kernelspec": {
   "display_name": "Python 3",
   "language": "python",
   "name": "python3"
  },
  "language_info": {
   "codemirror_mode": {
    "name": "ipython",
    "version": 3
   },
   "file_extension": ".py",
   "mimetype": "text/x-python",
   "name": "python",
   "nbconvert_exporter": "python",
   "pygments_lexer": "ipython3",
   "version": "3.7.6"
  }
 },
 "nbformat": 4,
 "nbformat_minor": 4
}
